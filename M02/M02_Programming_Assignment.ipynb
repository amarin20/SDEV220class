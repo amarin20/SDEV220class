{
 "cells": [
  {
   "cell_type": "markdown",
   "id": "8ab6e42f",
   "metadata": {},
   "source": [
    "4.1 Choose a number between 1 and 10 and assign it to the variable secret. Then, select another number between 1 and 10 and assign it to the variable guess. Next, write the conditional tests (if, else, and elif) to print the string 'too low' if guess is less than secret, 'too high' if greater than secret, and 'just right' if equal to secret."
   ]
  },
  {
   "cell_type": "code",
   "execution_count": 1,
   "id": "17595ee5",
   "metadata": {},
   "outputs": [
    {
     "name": "stdout",
     "output_type": "stream",
     "text": [
      "Guess is too low!\n"
     ]
    }
   ],
   "source": [
    "secret_number = 9 \n",
    "guess_number = 4 \n",
    "\n",
    "if guess_number < secret_number: \n",
    "    print(\"Guess is too low!\") #prints if secret is greater than guess \n",
    "elif guess_number > secret_number: \n",
    "    print(\"Guess is too high!\") #prints if guess is less than secret \n",
    "else:\n",
    "    print(\"Guess is just right!\") #prints if guess is equal to secret"
   ]
  },
  {
   "cell_type": "markdown",
   "id": "6e6bd7f3",
   "metadata": {},
   "source": [
    "4.2 Assign True or False to the variables small and green. Write some if/else statements to print which of these matches those choices: cherry, pea, watermelon, pumpkin."
   ]
  },
  {
   "cell_type": "code",
   "execution_count": 2,
   "id": "f0f8ac68",
   "metadata": {},
   "outputs": [
    {
     "name": "stdout",
     "output_type": "stream",
     "text": [
      "A pumpkin is neither green nor small! \n"
     ]
    }
   ],
   "source": [
    "small = False \n",
    "green = False   \n",
    "\n",
    "if small and green: #prints if both conditions are true \n",
    "    print(\"A pea is small and green!\")\n",
    "elif small and not green: #prints if the object is small, but NOT green. \n",
    "    print(\"A cherry is small, but not green!\") \n",
    "elif not small and green: #prints if the object is NOT small, but green. \n",
    "    print(\"A watermelon is green, but not small!\")\n",
    "else: #prints if both conditions are false. \n",
    "    print(\"A pumpkin is neither green nor small! \")"
   ]
  },
  {
   "cell_type": "markdown",
   "id": "6b66c8e1",
   "metadata": {},
   "source": [
    "6.1 Use a for loop to print the values of the list [3, 2, 1, 0]."
   ]
  },
  {
   "cell_type": "code",
   "execution_count": 3,
   "id": "0ec991c3",
   "metadata": {},
   "outputs": [
    {
     "name": "stdout",
     "output_type": "stream",
     "text": [
      "3\n",
      "2\n",
      "1\n",
      "0\n"
     ]
    }
   ],
   "source": [
    "numbers = [3, 2, 1, 0] #list \n",
    "for x in numbers: #loop\n",
    "    print(x) "
   ]
  },
  {
   "cell_type": "markdown",
   "id": "36f12f9f",
   "metadata": {},
   "source": [
    "6.2 Assign the value 7 to the variable guess_me, and the value 1 to the variable number. Write a while loop that compares number with guess_me. Print 'too low' if number is less than guess me. If number equals guess_me, print 'found it!' and then exit the loop. If number is greater than guess_me, print 'oops' and then exit the loop. Increment number at the end of the loop."
   ]
  },
  {
   "cell_type": "code",
   "execution_count": 4,
   "id": "4c0efeec",
   "metadata": {},
   "outputs": [
    {
     "name": "stdout",
     "output_type": "stream",
     "text": [
      "too low!\n"
     ]
    }
   ],
   "source": [
    "guess_me = 7\n",
    "number = 1\n",
    "\n",
    "while number <= guess_me:\n",
    "    if number < guess_me:\n",
    "            print(\"too low!\") \n",
    "            break #exits loop\n",
    "    if number == guess_me: #prints number and guess me are equal \n",
    "            print(\"found me!\")\n",
    "            break #exits loop\n",
    "    else:\n",
    "        print (\"oops!\")\n",
    "    number += 1 #increment "
   ]
  },
  {
   "cell_type": "markdown",
   "id": "c3597911",
   "metadata": {},
   "source": [
    "6.3 Assign the value 5 to the variable guess_me. Use a for loop to iterate a variable called number over range(10). If number is less than guess_me, print 'too low'. If it equals guess_me, print found it! and then break out of the for loop. If number is greater than guess_me, print 'oops' and then exit the loop."
   ]
  },
  {
   "cell_type": "code",
   "execution_count": 5,
   "id": "6e87455d",
   "metadata": {},
   "outputs": [
    {
     "name": "stdout",
     "output_type": "stream",
     "text": [
      "too low!\n",
      "too low!\n",
      "too low!\n",
      "too low!\n",
      "too low!\n",
      "found me!\n"
     ]
    }
   ],
   "source": [
    "guess_me = 5\n",
    "\n",
    "for number in range(10): # for loop\n",
    "    if number < guess_me: \n",
    "        print(\"too low!\")\n",
    "    if number == guess_me: \n",
    "        print(\"found me!\")\n",
    "        break #exits loop\n",
    "    if number > guess_me:\n",
    "        print(\"oops!\")\n",
    "        break #exits loop"
   ]
  }
 ],
 "metadata": {
  "kernelspec": {
   "display_name": "Python 3 (ipykernel)",
   "language": "python",
   "name": "python3"
  },
  "language_info": {
   "codemirror_mode": {
    "name": "ipython",
    "version": 3
   },
   "file_extension": ".py",
   "mimetype": "text/x-python",
   "name": "python",
   "nbconvert_exporter": "python",
   "pygments_lexer": "ipython3",
   "version": "3.11.4"
  }
 },
 "nbformat": 4,
 "nbformat_minor": 5
}
