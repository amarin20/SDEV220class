{
 "cells": [
  {
   "cell_type": "markdown",
   "id": "459ffdb0",
   "metadata": {},
   "source": [
    "11.1 Create a file called zoo.py. In it, define a function called hours() that prints the string 'Open 9-5 daily'. Then, use the interactive interpreter to import the zoo module and call its hours() function."
   ]
  },
  {
   "cell_type": "code",
   "execution_count": 2,
   "id": "68ab0052",
   "metadata": {},
   "outputs": [
    {
     "name": "stdout",
     "output_type": "stream",
     "text": [
      "Open 9-5 daily\n"
     ]
    }
   ],
   "source": [
    "import zoo\n",
    "zoo.hours()"
   ]
  },
  {
   "cell_type": "markdown",
   "id": "483b8819",
   "metadata": {},
   "source": [
    "11.2 In the interactive interpreter, import the zoo module as menagerie and call its hours() function."
   ]
  },
  {
   "cell_type": "code",
   "execution_count": 3,
   "id": "73654209",
   "metadata": {},
   "outputs": [
    {
     "name": "stdout",
     "output_type": "stream",
     "text": [
      "Open 9-5 daily\n"
     ]
    }
   ],
   "source": [
    "import zoo as menagerie\n",
    "menagerie.hours()"
   ]
  },
  {
   "cell_type": "markdown",
   "id": "9c25c65f",
   "metadata": {},
   "source": [
    "16.8 Use the sqlalchemy module to connect to the sqlite3 database books.db that you just made in exercise 16.4. As in 16.6, select and print the title column from the book table in alphabetical order."
   ]
  },
  {
   "cell_type": "code",
   "execution_count": null,
   "id": "39739f85",
   "metadata": {},
   "outputs": [],
   "source": [
    "from sqlalchemy import create_engine, select, Table, Column, Integer, String\n",
    "\n",
    "# connect to the database\n",
    "engine = create_engine('sqlite:///books.db')\n",
    "\n",
    "# Define the 'books' table\n",
    "metadata = Table('books',\n",
    "                 Column('title', String),\n",
    "                 Column('author', String),\n",
    "                 Column('year', Integer))\n",
    "\n",
    "# fetches the 'title' column in alphabetical order\n",
    "select_stmt = select([metadata.columns.title]).order_by(metadata.columns.title)\n",
    "\n",
    "# Execute the select statement and print the results\n",
    "with engine.connect() as connection:\n",
    "    results = connection.execute(select_stmt)\n",
    "    for row in results:\n",
    "        print(row.title)"
   ]
  }
 ],
 "metadata": {
  "kernelspec": {
   "display_name": "Python 3 (ipykernel)",
   "language": "python",
   "name": "python3"
  },
  "language_info": {
   "codemirror_mode": {
    "name": "ipython",
    "version": 3
   },
   "file_extension": ".py",
   "mimetype": "text/x-python",
   "name": "python",
   "nbconvert_exporter": "python",
   "pygments_lexer": "ipython3",
   "version": "3.11.4"
  }
 },
 "nbformat": 4,
 "nbformat_minor": 5
}
